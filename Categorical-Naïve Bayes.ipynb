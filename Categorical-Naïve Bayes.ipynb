{
 "cells": [
  {
   "cell_type": "code",
   "execution_count": 2,
   "metadata": {},
   "outputs": [
    {
     "name": "stdout",
     "output_type": "stream",
     "text": [
      "Enter training filename: buyTraining.txt\n",
      "Enter testing filename: buyTesting.txt\n"
     ]
    }
   ],
   "source": [
    "import numpy as np\n",
    "import os\n",
    "import math\n",
    "\n",
    "trainingFile = input (\"Enter training filename: \")\n",
    "testFile = input (\"Enter testing filename: \")"
   ]
  },
  {
   "cell_type": "code",
   "execution_count": 3,
   "metadata": {},
   "outputs": [],
   "source": [
    "arrayTrain = []\n",
    "arrayTest = []\n",
    "\n",
    "with open(trainingFile, 'r') as f:\n",
    "        for line in f.readlines():\n",
    "            arrayTrain.append(line.split(' '))\n",
    "\n",
    "with open(testFile, 'r') as g:\n",
    "        for line in g.readlines():\n",
    "            arrayTest.append(line.split(' '))\n",
    "\n",
    "arrayTrain = np.array(arrayTrain).astype(int)\n",
    "arrayTest = np.array(arrayTest).astype(int)\n",
    "cols = len(arrayTrain.T)\n"
   ]
  },
  {
   "cell_type": "code",
   "execution_count": 4,
   "metadata": {},
   "outputs": [],
   "source": [
    "#sort testing array based on if the class value is 1(trainingP) or -1(trainingN)\n",
    "trainingP = np.array(arrayTrain[np.where(arrayTrain[:,cols - 1] == 1)]).T.astype(int)\n",
    "trainingN = np.array(arrayTrain[np.where(arrayTrain[:,cols - 1] == -1)]).T.astype(int)\n",
    "#print (trainingP)\n",
    "#print (trainingN)"
   ]
  },
  {
   "cell_type": "code",
   "execution_count": 5,
   "metadata": {
    "scrolled": true
   },
   "outputs": [],
   "source": [
    "#these arrays give a summary of the number of 1's,2's, and 3's in each column. SummaryP give a summary of all values \n",
    "#with class '1' and summaryN gives a summary of all values with class '-1' \n",
    "#the nested arrays represent each column and the values represents the number of 1, 2, and 3's in each column\n",
    "# [[# of 1's in col 1, # of 2's in col 1. # of 3's in col 1][#of 1's in col 2, etc..][col3][col4]]\n",
    "\n",
    "summaryP = [[0,0,0],[0,0,0],[0,0,0],[0,0,0]]\n",
    "summaryN = [[0,0,0],[0,0,0],[0,0,0],[0,0,0]]\n",
    "for x in range (len(trainingP) - 1):\n",
    "    a = 0\n",
    "    b = 0\n",
    "    c = 0\n",
    "    for y in range (len(trainingP[x])):\n",
    "        if (trainingP[x][y] == 1):\n",
    "            a = a + 1\n",
    "        elif(trainingP[x][y] == 2):\n",
    "            b = b + 1\n",
    "        elif(trainingP[x][y] == 3):\n",
    "            c = c + 1\n",
    "    summaryP[x][0] = a + 1 #laplace correction\n",
    "    summaryP[x][1] = b + 1\n",
    "    summaryP[x][2] = c + 1\n",
    "\n",
    "for x in range (len(trainingN) - 1):\n",
    "    a = 0\n",
    "    b = 0\n",
    "    c = 0\n",
    "    for y in range (len(trainingN[x])):\n",
    "        if (trainingN[x][y] == 1):\n",
    "            a = a + 1\n",
    "        elif(trainingN[x][y] == 2):\n",
    "            b = b + 1\n",
    "        elif(trainingN[x][y] == 3):\n",
    "            c = c + 1\n",
    "    summaryN[x][0] = a + 1 #laplace correction\n",
    "    summaryN[x][1] = b + 1\n",
    "    summaryN[x][2] = c + 1\n",
    "#print(summaryP)\n",
    "#print(summaryN)"
   ]
  },
  {
   "cell_type": "code",
   "execution_count": 6,
   "metadata": {},
   "outputs": [],
   "source": [
    "resultsP = [] #all records classified to class '1'\n",
    "resultsN = [] #all records classified to class '-1'\n",
    "PYES = len(trainingP[0]) / (len(trainingP[0]) + len(trainingN[0]))\n",
    "PNO = 1-PYES\n",
    "for x in range (len(arrayTest)):\n",
    "    PofYES = 1\n",
    "    PofNO = 1\n",
    "    for y in range(cols - 1):\n",
    "            PofYES = PofYES * ((summaryP[y][(arrayTest[x][y]-1)])/len(trainingP[0])) #\n",
    "            PofNO = PofNO * ((summaryN[y][(arrayTest[x][y]-1)])/len(trainingN[0]))\n",
    "    if PofYES > PofNO:\n",
    "        resultsP.append(arrayTest[x]) \n",
    "    else:\n",
    "        resultsN.append(arrayTest[x])"
   ]
  },
  {
   "cell_type": "code",
   "execution_count": 7,
   "metadata": {},
   "outputs": [],
   "source": [
    "#print (resultsP)\n",
    "#print (resultsN)"
   ]
  },
  {
   "cell_type": "code",
   "execution_count": 8,
   "metadata": {},
   "outputs": [],
   "source": [
    "TP = 0\n",
    "FP = 0\n",
    "TN = 0\n",
    "FN = 0\n",
    "#Find number of TP,FP,FN, and TN by sorting arrays into postive and negative, then sorting those arrays based on if \n",
    "#their last value is -1 or 1\n",
    "resultsP = np.array(resultsP).astype(float)\n",
    "#rint(resultsP) #print all '1' results\n",
    "if len(resultsP) > 0:\n",
    "    TP = len(np.array(resultsP[np.where(resultsP[:,cols - 1] == 1)]).astype(float))\n",
    "    FP = len(np.array(resultsP[np.where(resultsP[:,cols - 1] == -1)]).astype(float))\n",
    "else:\n",
    "    TP =0\n",
    "    FP =0\n",
    "resultsN = np.array(resultsN).astype(float)\n",
    "if len(resultsN) > 0:\n",
    "    FN = len(np.array(resultsN[np.where(resultsN[:,cols - 1] == 1)]).astype(float))\n",
    "    TN = len(np.array(resultsN[np.where(resultsN[:,cols - 1] == -1)]).astype(float))\n",
    "else:\n",
    "    FN =0\n",
    "    TN =0\n",
    "#print (TP + FP + FN + TN) #make sure all records are classified"
   ]
  },
  {
   "cell_type": "code",
   "execution_count": 9,
   "metadata": {},
   "outputs": [],
   "source": [
    "#calculate data\n",
    "if (TP + FP + FN + TN) > 0:\n",
    "    accuracy = (TP + TN) / (TP + FP + FN + TN)\n",
    "else:\n",
    "    accuracy = 0\n",
    "if (TP + FP) > 0:\n",
    "    percision = TP / (TP + FP)\n",
    "else:\n",
    "    percision = 0\n",
    "if (TP + FN) > 0:\n",
    "    recall = TP / (TP + FN)\n",
    "else:\n",
    "    recall = 0"
   ]
  },
  {
   "cell_type": "code",
   "execution_count": 10,
   "metadata": {},
   "outputs": [
    {
     "name": "stdout",
     "output_type": "stream",
     "text": [
      "Accuracy : 0.5\n",
      "True Positive : 1\n",
      "True Negative : 1\n",
      "False Positive : 1\n",
      "False Negative : 1\n",
      "Percision : 0.5\n",
      "Recall : 0.5\n"
     ]
    }
   ],
   "source": [
    "#display data\n",
    "print('Accuracy : ' + str(accuracy))\n",
    "print('True Positive : ' + str(TP))\n",
    "print('True Negative : ' + str(TN))\n",
    "print('False Positive : ' + str(FP))\n",
    "print('False Negative : ' + str(FN))\n",
    "print('Percision : ' + str(percision))\n",
    "print('Recall : ' + str(recall))"
   ]
  },
  {
   "cell_type": "code",
   "execution_count": null,
   "metadata": {},
   "outputs": [],
   "source": []
  }
 ],
 "metadata": {
  "kernelspec": {
   "display_name": "Python 3",
   "language": "python",
   "name": "python3"
  },
  "language_info": {
   "codemirror_mode": {
    "name": "ipython",
    "version": 3
   },
   "file_extension": ".py",
   "mimetype": "text/x-python",
   "name": "python",
   "nbconvert_exporter": "python",
   "pygments_lexer": "ipython3",
   "version": "3.8.5"
  }
 },
 "nbformat": 4,
 "nbformat_minor": 4
}
