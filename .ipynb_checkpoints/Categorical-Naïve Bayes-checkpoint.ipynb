{
 "cells": [
  {
   "cell_type": "code",
   "execution_count": 6,
   "metadata": {},
   "outputs": [
    {
     "name": "stdout",
     "output_type": "stream",
     "text": [
      "Enter training filename: buyTraining.txt\n",
      "Enter testing filename: buyTesting.txt\n"
     ]
    }
   ],
   "source": [
    "import numpy as np\n",
    "import os\n",
    "import math\n",
    "\n",
    "trainingFile = input (\"Enter training filename: \")\n",
    "testFile = input (\"Enter testing filename: \")"
   ]
  },
  {
   "cell_type": "code",
   "execution_count": 7,
   "metadata": {},
   "outputs": [],
   "source": [
    "arrayTrain = []\n",
    "arrayTest = []\n",
    "\n",
    "with open(trainingFile, 'r') as f:\n",
    "        for line in f.readlines():\n",
    "            arrayTrain.append(line.split(' '))\n",
    "\n",
    "with open(testFile, 'r') as g:\n",
    "        for line in g.readlines():\n",
    "            arrayTest.append(line.split(' '))\n",
    "\n",
    "arrayTrain = np.array(arrayTrain).astype(int)\n",
    "arrayTest = np.array(arrayTest).astype(int)\n",
    "cols = len(arrayTrain.T)\n"
   ]
  },
  {
   "cell_type": "code",
   "execution_count": 37,
   "metadata": {},
   "outputs": [
    {
     "name": "stdout",
     "output_type": "stream",
     "text": [
      "[[2 3 3 2 1 3 1 2 2]\n",
      " [3 2 1 1 1 2 2 2 3]\n",
      " [2 2 1 1 1 1 1 2 1]\n",
      " [1 1 1 2 1 1 2 2 1]\n",
      " [1 1 1 1 1 1 1 1 1]]\n",
      "[[ 1  1  3  1  3]\n",
      " [ 3  3  1  2  1]\n",
      " [ 2  2  1  2  2]\n",
      " [ 1  2  2  1  2]\n",
      " [-1 -1 -1 -1 -1]]\n"
     ]
    }
   ],
   "source": [
    "#sort testing array based on if the class value is 1(trainingP) or -1(trainingN)\n",
    "trainingP = np.array(arrayTrain[np.where(arrayTrain[:,cols - 1] == 1)]).T.astype(int)\n",
    "trainingN = np.array(arrayTrain[np.where(arrayTrain[:,cols - 1] == -1)]).T.astype(int)\n",
    "print (trainingP)\n",
    "print (trainingN)"
   ]
  },
  {
   "cell_type": "code",
   "execution_count": 48,
   "metadata": {
    "scrolled": true
   },
   "outputs": [
    {
     "name": "stdout",
     "output_type": "stream",
     "text": [
      "[[3, 5, 4], [4, 5, 3], [7, 4, 1], [7, 4, 1]]\n",
      "[[4, 1, 3], [3, 2, 3], [2, 5, 1], [3, 4, 1]]\n"
     ]
    }
   ],
   "source": [
    "#these arrays give a summary of the number of 1's,2's, and 3's in each column. SummaryP give a summary of all values \n",
    "#with class '1' and summaryN gives a summary of all values with class '-1' \n",
    "#the nested arrays represent each column and the values represents the number of 1, 2, and 3's in each column\n",
    "# [[# of 1's in col 1, # of 2's in col 1. # of 3's in col 1][#of 1's in col 2, etc..][col3][col4]]\n",
    "\n",
    "summaryP = [[0,0,0],[0,0,0],[0,0,0],[0,0,0]]\n",
    "summaryN = [[0,0,0],[0,0,0],[0,0,0],[0,0,0]]\n",
    "for x in range (len(trainingP) - 1):\n",
    "    a = 0\n",
    "    b = 0\n",
    "    c = 0\n",
    "    for y in range (len(trainingP[x])):\n",
    "        if (trainingP[x][y] == 1):\n",
    "            a = a + 1\n",
    "        elif(trainingP[x][y] == 2):\n",
    "            b = b + 1\n",
    "        elif(trainingP[x][y] == 3):\n",
    "            c = c + 1\n",
    "    summaryP[x][0] = a + 1 #laplace correction\n",
    "    summaryP[x][1] = b + 1\n",
    "    summaryP[x][2] = c + 1\n",
    "\n",
    "for x in range (len(trainingN) - 1):\n",
    "    a = 0\n",
    "    b = 0\n",
    "    c = 0\n",
    "    for y in range (len(trainingN[x])):\n",
    "        if (trainingN[x][y] == 1):\n",
    "            a = a + 1\n",
    "        elif(trainingN[x][y] == 2):\n",
    "            b = b + 1\n",
    "        elif(trainingN[x][y] == 3):\n",
    "            c = c + 1\n",
    "    summaryN[x][0] = a + 1 #laplace correction\n",
    "    summaryN[x][1] = b + 1\n",
    "    summaryN[x][2] = c + 1\n",
    "print(summaryP)\n",
    "print(summaryN)"
   ]
  },
  {
   "cell_type": "code",
   "execution_count": 51,
   "metadata": {},
   "outputs": [
    {
     "name": "stdout",
     "output_type": "stream",
     "text": [
      "0.3571428571428571\n",
      "0.3571428571428571\n",
      "0.3571428571428571\n",
      "0.3571428571428571\n"
     ]
    }
   ],
   "source": [
    "PYES = len(trainingP[0]) / (len(trainingP[0]) + len(trainingN[0]))\n",
    "PNO = 1-PYES\n",
    "for x in range (len(arrayTest)):\n",
    "    "
   ]
  },
  {
   "cell_type": "code",
   "execution_count": 49,
   "metadata": {},
   "outputs": [
    {
     "name": "stdout",
     "output_type": "stream",
     "text": [
      "[[ 3  2  1  1 -1]\n",
      " [ 3  2  1  2  1]\n",
      " [ 1  2  2  2 -1]\n",
      " [ 1  1  1  1  1]]\n"
     ]
    }
   ],
   "source": []
  },
  {
   "cell_type": "code",
   "execution_count": null,
   "metadata": {},
   "outputs": [],
   "source": []
  }
 ],
 "metadata": {
  "kernelspec": {
   "display_name": "Python 3",
   "language": "python",
   "name": "python3"
  },
  "language_info": {
   "codemirror_mode": {
    "name": "ipython",
    "version": 3
   },
   "file_extension": ".py",
   "mimetype": "text/x-python",
   "name": "python",
   "nbconvert_exporter": "python",
   "pygments_lexer": "ipython3",
   "version": "3.8.5"
  }
 },
 "nbformat": 4,
 "nbformat_minor": 4
}
