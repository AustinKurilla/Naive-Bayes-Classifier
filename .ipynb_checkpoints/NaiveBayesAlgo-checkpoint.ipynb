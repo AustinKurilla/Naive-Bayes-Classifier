{
 "cells": [
  {
   "cell_type": "code",
   "execution_count": 1,
   "metadata": {},
   "outputs": [
    {
     "name": "stdout",
     "output_type": "stream",
     "text": [
      "Enter training filename: irisPCtesting.txt\n",
      "Enter testing filename: irisPCtraining.txt\n"
     ]
    }
   ],
   "source": [
    "import numpy as np\n",
    "import pandas as pd\n",
    "import os\n",
    "import math\n",
    "\n",
    "trainingFile = input (\"Enter training filename: \")\n",
    "testFile = input (\"Enter testing filename: \")\n",
    "#trainingFile = 'irisTraining.txt'\n",
    "#testFile = 'irisTesting.txt'"
   ]
  },
  {
   "cell_type": "code",
   "execution_count": 2,
   "metadata": {},
   "outputs": [],
   "source": [
    "arrayTrain = []\n",
    "arrayTest = []\n",
    "\n",
    "with open(trainingFile, 'r') as f:\n",
    "        for line in f.readlines():\n",
    "            arrayTrain.append(line.split(' '))\n",
    "\n",
    "with open(testFile, 'r') as g:\n",
    "        for line in g.readlines():\n",
    "            arrayTest.append(line.split(' '))\n",
    "            \n",
    "arrayTrain = np.array(arrayTrain).astype(float)\n",
    "arrayTest = np.array(arrayTest).astype(float)"
   ]
  },
  {
   "cell_type": "code",
   "execution_count": 3,
   "metadata": {
    "scrolled": true
   },
   "outputs": [
    {
     "ename": "IndexError",
     "evalue": "index 4 is out of bounds for axis 1 with size 3",
     "output_type": "error",
     "traceback": [
      "\u001b[1;31m---------------------------------------------------------------------------\u001b[0m",
      "\u001b[1;31mIndexError\u001b[0m                                Traceback (most recent call last)",
      "\u001b[1;32m<ipython-input-3-6272197cb470>\u001b[0m in \u001b[0;36m<module>\u001b[1;34m\u001b[0m\n\u001b[0;32m      1\u001b[0m \u001b[1;31m#sort testing array based on if the class value is 1(trainingP) or -1(trainingN)\u001b[0m\u001b[1;33m\u001b[0m\u001b[1;33m\u001b[0m\u001b[1;33m\u001b[0m\u001b[0m\n\u001b[1;32m----> 2\u001b[1;33m \u001b[0mtrainingP\u001b[0m \u001b[1;33m=\u001b[0m \u001b[0mnp\u001b[0m\u001b[1;33m.\u001b[0m\u001b[0marray\u001b[0m\u001b[1;33m(\u001b[0m\u001b[0marrayTrain\u001b[0m\u001b[1;33m[\u001b[0m\u001b[0mnp\u001b[0m\u001b[1;33m.\u001b[0m\u001b[0mwhere\u001b[0m\u001b[1;33m(\u001b[0m\u001b[0marrayTrain\u001b[0m\u001b[1;33m[\u001b[0m\u001b[1;33m:\u001b[0m\u001b[1;33m,\u001b[0m\u001b[1;36m4\u001b[0m\u001b[1;33m]\u001b[0m \u001b[1;33m==\u001b[0m \u001b[1;36m1\u001b[0m\u001b[1;33m)\u001b[0m\u001b[1;33m]\u001b[0m\u001b[1;33m)\u001b[0m\u001b[1;33m.\u001b[0m\u001b[0mT\u001b[0m\u001b[1;33m.\u001b[0m\u001b[0mastype\u001b[0m\u001b[1;33m(\u001b[0m\u001b[0mfloat\u001b[0m\u001b[1;33m)\u001b[0m\u001b[1;33m\u001b[0m\u001b[1;33m\u001b[0m\u001b[0m\n\u001b[0m\u001b[0;32m      3\u001b[0m \u001b[0mtrainingN\u001b[0m \u001b[1;33m=\u001b[0m \u001b[0mnp\u001b[0m\u001b[1;33m.\u001b[0m\u001b[0marray\u001b[0m\u001b[1;33m(\u001b[0m\u001b[0marrayTrain\u001b[0m\u001b[1;33m[\u001b[0m\u001b[0mnp\u001b[0m\u001b[1;33m.\u001b[0m\u001b[0mwhere\u001b[0m\u001b[1;33m(\u001b[0m\u001b[0marrayTrain\u001b[0m\u001b[1;33m[\u001b[0m\u001b[1;33m:\u001b[0m\u001b[1;33m,\u001b[0m\u001b[1;36m4\u001b[0m\u001b[1;33m]\u001b[0m \u001b[1;33m==\u001b[0m \u001b[1;33m-\u001b[0m\u001b[1;36m1\u001b[0m\u001b[1;33m)\u001b[0m\u001b[1;33m]\u001b[0m\u001b[1;33m)\u001b[0m\u001b[1;33m.\u001b[0m\u001b[0mT\u001b[0m\u001b[1;33m.\u001b[0m\u001b[0mastype\u001b[0m\u001b[1;33m(\u001b[0m\u001b[0mfloat\u001b[0m\u001b[1;33m)\u001b[0m\u001b[1;33m\u001b[0m\u001b[1;33m\u001b[0m\u001b[0m\n",
      "\u001b[1;31mIndexError\u001b[0m: index 4 is out of bounds for axis 1 with size 3"
     ]
    }
   ],
   "source": [
    "#sort testing array based on if the class value is 1(trainingP) or -1(trainingN)\n",
    "trainingP = np.array(arrayTrain[np.where(arrayTrain[:,4] == 1)]).T.astype(float)\n",
    "trainingN = np.array(arrayTrain[np.where(arrayTrain[:,4] == -1)]).T.astype(float)"
   ]
  },
  {
   "cell_type": "code",
   "execution_count": 4,
   "metadata": {},
   "outputs": [
    {
     "name": "stdout",
     "output_type": "stream",
     "text": [
      "[ 1.988 -0.472  1.022 44.2      nan]\n",
      "[ 3.809 -0.87   2.342 14.7      nan]\n",
      "[0.50482105 0.31507675 2.50281502 0.21282415 0.        ]\n",
      "[0.93480919 0.76849106 2.06450834 1.08331638 0.        ]\n",
      "100\n"
     ]
    }
   ],
   "source": [
    "#calculate mean of each column, seperate based on 1(P) and -1(N)\n",
    "meanofnumsP = np.sum(trainingP, axis=1) #mean of all 1's\n",
    "meanofnumsN = np.sum(trainingN, axis=1) #mean of all -1's\n",
    "for x in range (3):\n",
    "    meanofnumsP[x] = meanofnumsP[x] / len(arrayTrain)\n",
    "    meanofnumsN[x] = meanofnumsN[x] / len(arrayTrain)\n",
    "meanofnumsP[4] = None\n",
    "meanofnumsN[4] = None\n",
    "#print (meanofnumsP)\n",
    "#print (meanofnumsN)\n",
    "\n",
    "#calculate std deviation of each column, seperate based on 1(P) and -1(N)\n",
    "devofnumsP = np.std(trainingP, axis=1)\n",
    "devofnumsN = np.std(trainingN, axis=1)\n",
    "#print(devofnumsP)\n",
    "#print(devofnumsN)"
   ]
  },
  {
   "cell_type": "code",
   "execution_count": 5,
   "metadata": {},
   "outputs": [],
   "source": [
    "#probability density function\n",
    "def prob_density(x, mean, sd):\n",
    "    var = float(sd)**2\n",
    "    denom = (2*math.pi*var)**(0.5)\n",
    "    num = math.exp(-(float(x)-float(mean))**2/(2*var))\n",
    "    pdf = num/denom\n",
    "    if(pdf == 0):\n",
    "        return 0.00001\n",
    "    else:\n",
    "        return pdf\n",
    "#print(prob_density(120,110,54.54356)) test example from slides"
   ]
  },
  {
   "cell_type": "code",
   "execution_count": 6,
   "metadata": {},
   "outputs": [
    {
     "name": "stdout",
     "output_type": "stream",
     "text": [
      "50\n"
     ]
    }
   ],
   "source": [
    "TP = 0\n",
    "FP = 0\n",
    "TN = 0\n",
    "FN = 0\n",
    "PYES = len(trainingP[0]) / (len(trainingP[0]) + len(trainingN[0]))\n",
    "PNO = 1-PYES\n",
    "resultsP = []\n",
    "resultsN = []\n",
    "#PofXYES = probablity new record belongs to class '1' PofXNO = probablity new record beleongs to class '-1' whichever \n",
    "#number is larger between the 2 decides which class the record belongs too\n",
    "for x in range (len(arrayTest)):\n",
    "    PofXYES =  (((prob_density(arrayTest[x][0],meanofnumsP[0],devofnumsP[0]))*\n",
    "               (prob_density(arrayTest[x][1],meanofnumsP[1],devofnumsP[1]))* \n",
    "               (prob_density(arrayTest[x][2],meanofnumsP[2],devofnumsP[2]))*\n",
    "               (prob_density(arrayTest[x][3],meanofnumsP[3],devofnumsP[3])))*PYES)\n",
    "    \n",
    "    PofXNO = (((prob_density(arrayTest[x][0],meanofnumsN[0],devofnumsN[0]))*\n",
    "              (prob_density(arrayTest[x][1],meanofnumsN[1],devofnumsN[1]))*\n",
    "             (prob_density(arrayTest[x][2],meanofnumsN[2],devofnumsN[2]))*\n",
    "             (prob_density(arrayTest[x][3],meanofnumsN[3],devofnumsN[3])))*PNO)\n",
    "    if PofXYES > PofXNO:\n",
    "        resultsP.append(arrayTest[x])\n",
    "    else:\n",
    "        resultsN.append(arrayTest[x])\n",
    "\n",
    "#Find number of TP,FP,FN, and TN by sorting arrays into postive and negative, then sorting those arrays based on if \n",
    "#their last value is -1 or 1\n",
    "resultsP = np.array(resultsP).astype(float)\n",
    "TP = len(np.array(resultsP[np.where(resultsP[:,4] == 1)]).astype(float))\n",
    "FP = len(np.array(resultsP[np.where(resultsP[:,4] == -1)]).astype(float))\n",
    "\n",
    "resultsN = np.array(resultsN).astype(float)\n",
    "FN = len(np.array(resultsN[np.where(resultsN[:,4] == 1)]).astype(float))\n",
    "TN = len(np.array(resultsN[np.where(resultsN[:,4] == -1)]).astype(float))\n",
    "\n",
    "print (TP + FP + FN + TN) #make sure all records are classified"
   ]
  },
  {
   "cell_type": "code",
   "execution_count": 7,
   "metadata": {},
   "outputs": [],
   "source": [
    "#calculate data\n",
    "accuracy = (TP + TN) / (TP + FP + FN + TN)\n",
    "percision = TP / (TP + FP)\n",
    "recall = TP / (TP + FN)"
   ]
  },
  {
   "cell_type": "code",
   "execution_count": 8,
   "metadata": {},
   "outputs": [
    {
     "name": "stdout",
     "output_type": "stream",
     "text": [
      "Accuracy : 0.38\n",
      "True Positive : 16\n",
      "True Negative : 3\n",
      "False Positive : 31\n",
      "False Negative : 0\n",
      "Percision : 0.3404255319148936\n",
      "Recall : 1.0\n"
     ]
    }
   ],
   "source": [
    "#display data\n",
    "print('Accuracy : ' + str(accuracy))\n",
    "print('True Positive : ' + str(TP))\n",
    "print('True Negative : ' + str(TN))\n",
    "print('False Positive : ' + str(FP))\n",
    "print('False Negative : ' + str(FN))\n",
    "print('Percision : ' + str(percision))\n",
    "print('Recall : ' + str(recall))"
   ]
  },
  {
   "cell_type": "code",
   "execution_count": null,
   "metadata": {},
   "outputs": [],
   "source": []
  }
 ],
 "metadata": {
  "kernelspec": {
   "display_name": "Python 3",
   "language": "python",
   "name": "python3"
  },
  "language_info": {
   "codemirror_mode": {
    "name": "ipython",
    "version": 3
   },
   "file_extension": ".py",
   "mimetype": "text/x-python",
   "name": "python",
   "nbconvert_exporter": "python",
   "pygments_lexer": "ipython3",
   "version": "3.8.5"
  }
 },
 "nbformat": 4,
 "nbformat_minor": 5
}
