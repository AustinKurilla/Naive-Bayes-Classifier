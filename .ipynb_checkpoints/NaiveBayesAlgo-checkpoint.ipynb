{
 "cells": [
  {
   "cell_type": "code",
   "execution_count": 82,
   "metadata": {},
   "outputs": [
    {
     "name": "stdout",
     "output_type": "stream",
     "text": [
      "Enter training filename: irisTraining.txt\n",
      "Enter testing filename: irisTesting.txt\n"
     ]
    }
   ],
   "source": [
    "import numpy as np\n",
    "import pandas as pd\n",
    "import os\n",
    "import math\n",
    "\n",
    "trainingFile = input (\"Enter training filename: \")\n",
    "testFile = input (\"Enter testing filename: \")\n",
    "#trainingFile = 'irisTraining.txt'\n",
    "#testFile = 'irisTesting.txt'"
   ]
  },
  {
   "cell_type": "code",
   "execution_count": 91,
   "metadata": {},
   "outputs": [],
   "source": [
    "arrayTrain = []\n",
    "arrayTest = []\n",
    "\n",
    "with open(trainingFile, 'r') as f:\n",
    "        for line in f.readlines():\n",
    "            arrayTrain.append(line.split(' '))\n",
    "\n",
    "with open(testFile, 'r') as g:\n",
    "        for line in g.readlines():\n",
    "            arrayTest.append(line.split(' '))\n",
    "            \n",
    "arrayTrain = np.array(arrayTrain).astype(float)\n",
    "arrayTest = np.array(arrayTest).astype(float)\n",
    "cols = len(arrayTrain.T)\n",
    "#print (cols)"
   ]
  },
  {
   "cell_type": "code",
   "execution_count": 84,
   "metadata": {
    "scrolled": true
   },
   "outputs": [],
   "source": [
    "#sort testing array based on if the class value is 1(trainingP) or -1(trainingN)\n",
    "trainingP = np.array(arrayTrain[np.where(arrayTrain[:,cols - 1] == 1)]).T.astype(float)\n",
    "trainingN = np.array(arrayTrain[np.where(arrayTrain[:,cols - 1] == -1)]).T.astype(float)"
   ]
  },
  {
   "cell_type": "code",
   "execution_count": 85,
   "metadata": {},
   "outputs": [],
   "source": [
    "#calculate mean of each column, seperate based on 1(P) and -1(N)\n",
    "meanofnumsP = np.sum(trainingP, axis=1) #mean of all 1's\n",
    "meanofnumsN = np.sum(trainingN, axis=1) #mean of all -1's\n",
    "for x in range (cols - 2):\n",
    "    meanofnumsP[x] = meanofnumsP[x] / len(arrayTrain)\n",
    "    meanofnumsN[x] = meanofnumsN[x] / len(arrayTrain)\n",
    "#print (meanofnumsP)\n",
    "#print (meanofnumsN)\n",
    "\n",
    "#calculate std deviation of each column, seperate based on 1(P) and -1(N)\n",
    "devofnumsP = np.std(trainingP, axis=1)\n",
    "devofnumsN = np.std(trainingN, axis=1)\n",
    "#print(devofnumsP)\n",
    "#print(devofnumsN)"
   ]
  },
  {
   "cell_type": "code",
   "execution_count": 86,
   "metadata": {},
   "outputs": [],
   "source": [
    "#probability density function\n",
    "def prob_density(x, mean, sd):\n",
    "    var = float(sd)**2\n",
    "    denom = (2*math.pi*var)**(0.5)\n",
    "    num = math.exp(-(float(x)-float(mean))**2/(2*var))\n",
    "    pdf = num/denom\n",
    "    if(pdf == 0):\n",
    "        return 0.00001\n",
    "    else:\n",
    "        return pdf\n",
    "#print(prob_density(120,110,54.54356)) test example from slides"
   ]
  },
  {
   "cell_type": "code",
   "execution_count": 87,
   "metadata": {},
   "outputs": [],
   "source": [
    "TP = 0\n",
    "FP = 0\n",
    "TN = 0\n",
    "FN = 0\n",
    "PYES = len(trainingP[0]) / (len(trainingP[0]) + len(trainingN[0]))\n",
    "PNO = 1-PYES\n",
    "resultsP = []\n",
    "resultsN = []\n",
    "#PofXYES = probablity new record belongs to class '1' PofXNO = probablity new record beleongs to class '-1' whichever \n",
    "#number is larger between the 2 decides which class the record belongs too\n",
    "for x in range (len(arrayTest)):\n",
    "    PofXYES = 1\n",
    "    PofXNO = 1\n",
    "    for y in range (cols - 1):\n",
    "        PofXYES = (prob_density(arrayTest[x][y],meanofnumsP[y],devofnumsP[y]) * PofXYES)\n",
    "        PofXNO = (prob_density(arrayTest[x][y],meanofnumsN[y],devofnumsN[y]) * PofXNO)\n",
    "    \n",
    "    PofXYES = PofXYES * PYES        \n",
    "    PofXNO = PofXNO * PNO\n",
    "    if PofXYES > PofXNO:\n",
    "        resultsP.append(arrayTest[x])\n",
    "    else:\n",
    "        resultsN.append(arrayTest[x])"
   ]
  },
  {
   "cell_type": "code",
   "execution_count": 88,
   "metadata": {},
   "outputs": [
    {
     "name": "stdout",
     "output_type": "stream",
     "text": [
      "50\n"
     ]
    }
   ],
   "source": [
    "#Find number of TP,FP,FN, and TN by sorting arrays into postive and negative, then sorting those arrays based on if \n",
    "#their last value is -1 or 1\n",
    "resultsP = np.array(resultsP).astype(float)\n",
    "if len(resultsP) > 0:\n",
    "    TP = len(np.array(resultsP[np.where(resultsP[:,cols - 1] == 1)]).astype(float))\n",
    "    FP = len(np.array(resultsP[np.where(resultsP[:,cols - 1] == -1)]).astype(float))\n",
    "else:\n",
    "    TP =0\n",
    "    FP =0\n",
    "resultsN = np.array(resultsN).astype(float)\n",
    "if len(resultsN) > 0:\n",
    "    FN = len(np.array(resultsN[np.where(resultsN[:,cols - 1] == 1)]).astype(float))\n",
    "    TN = len(np.array(resultsN[np.where(resultsN[:,cols - 1] == -1)]).astype(float))\n",
    "else:\n",
    "    FN =0\n",
    "    TN =0\n",
    "print (TP + FP + FN + TN) #make sure all records are classified"
   ]
  },
  {
   "cell_type": "code",
   "execution_count": 89,
   "metadata": {},
   "outputs": [],
   "source": [
    "#calculate data\n",
    "if (TP + FP + FN + TN) > 0:\n",
    "    accuracy = (TP + TN) / (TP + FP + FN + TN)\n",
    "else:\n",
    "    accuracy = 0\n",
    "if (TP + FP) > 0:\n",
    "    percision = TP / (TP + FP)\n",
    "else:\n",
    "    percision = 0\n",
    "if (TP + FN) > 0:\n",
    "    recall = TP / (TP + FN)\n",
    "else:\n",
    "    recall = 0"
   ]
  },
  {
   "cell_type": "code",
   "execution_count": 90,
   "metadata": {},
   "outputs": [
    {
     "name": "stdout",
     "output_type": "stream",
     "text": [
      "Accuracy : 0.38\n",
      "True Positive : 16\n",
      "True Negative : 3\n",
      "False Positive : 31\n",
      "False Negative : 0\n",
      "Percision : 0.3404255319148936\n",
      "Recall : 1.0\n"
     ]
    }
   ],
   "source": [
    "#display data\n",
    "print('Accuracy : ' + str(accuracy))\n",
    "print('True Positive : ' + str(TP))\n",
    "print('True Negative : ' + str(TN))\n",
    "print('False Positive : ' + str(FP))\n",
    "print('False Negative : ' + str(FN))\n",
    "print('Percision : ' + str(percision))\n",
    "print('Recall : ' + str(recall))"
   ]
  }
 ],
 "metadata": {
  "kernelspec": {
   "display_name": "Python 3",
   "language": "python",
   "name": "python3"
  },
  "language_info": {
   "codemirror_mode": {
    "name": "ipython",
    "version": 3
   },
   "file_extension": ".py",
   "mimetype": "text/x-python",
   "name": "python",
   "nbconvert_exporter": "python",
   "pygments_lexer": "ipython3",
   "version": "3.8.5"
  }
 },
 "nbformat": 4,
 "nbformat_minor": 5
}
