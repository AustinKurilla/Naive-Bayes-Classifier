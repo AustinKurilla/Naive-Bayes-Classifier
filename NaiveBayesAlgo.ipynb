{
 "cells": [
  {
   "cell_type": "code",
   "execution_count": 89,
   "id": "european-directory",
   "metadata": {},
   "outputs": [
    {
     "name": "stdout",
     "output_type": "stream",
     "text": [
      "Type float64\n",
      "[5.9 6.9 6.6 4.6 6.  4.7 6.5 5.8 6.7 6.7 5.1 5.1 5.7 6.1 4.9 5.  5.  5.7\n",
      " 5.  7.2 5.9 6.5 5.7 5.5 4.9 5.  5.5 4.6 7.2 6.8 5.4 5.  5.7 5.8 5.1 5.6\n",
      " 5.8 5.1 6.3 6.3 5.6 6.1 6.8 7.3 5.6 4.8 7.1 5.7 5.3 5.7 5.7 5.6 4.4 6.3\n",
      " 5.4 6.3 6.9 7.7 6.1 5.6 6.1 6.4 5.  5.1 5.6 5.4 5.8 4.9 4.6 5.2 7.9 7.7\n",
      " 6.1 5.5 4.6 4.7 4.4 6.2 4.8 6.  6.2 5.  6.4 6.3 6.7 5.  5.9 6.7 5.4 6.3\n",
      " 4.8 4.4 6.4 6.2 6.  7.4 4.9 7.  5.5 6.3]\n"
     ]
    }
   ],
   "source": [
    "import numpy as np\n",
    "import pandas as pd\n",
    "import os\n",
    "\n",
    "#trainingFile = input (\"Enter training filename: \")\n",
    "#testFile = input (\"Enter testing filename: \")\n",
    "trainingFile = 'irisTraining.txt'\n",
    "testFIle = 'irisTesting.txt'\n",
    "arrayTrain = []\n",
    "arrayTest = []\n",
    "\n",
    "with open(trainingFile, 'r') as f:\n",
    "        for line in f.readlines():\n",
    "            arrayTrain.append(line.split(' '))\n",
    "\n",
    "with open(testFile, 'r') as g:\n",
    "        for line in g.readlines():\n",
    "            arrayTest.append(line.split(' '))\n",
    "            \n",
    "arrayTrain = np.array(arrayTrain).T.astype(float)\n",
    "arrayTest = np.array(arrayTest).T.astype(float)\n",
    "print(f'Type {arrayTrain.dtype}')\n",
    "print (arrayTrain[0]) #first column"
   ]
  },
  {
   "cell_type": "code",
   "execution_count": 90,
   "id": "weighted-offset",
   "metadata": {},
   "outputs": [
    {
     "name": "stdout",
     "output_type": "stream",
     "text": [
      "[ 5.797 -1.342  3.364 58.9      nan]\n",
      "[0.81528584 0.65164101 2.23805809 1.02487999 0.94741754]\n"
     ]
    }
   ],
   "source": [
    "#calculate mean of each column\n",
    "sumofnums = np.sum(arrayTrain, axis=1)\n",
    "for x in range (3):\n",
    "    sumofnums[x] = sumofnums[x] / 100\n",
    "    sumofnums[4] = None\n",
    "print (sumofnums)\n",
    "\n",
    "#calculate std deviation of each column\n",
    "devofnums = np.std(arrayTrain, axis=1)\n",
    "print(devofnums)"
   ]
  },
  {
   "cell_type": "code",
   "execution_count": null,
   "id": "advisory-manner",
   "metadata": {},
   "outputs": [],
   "source": []
  }
 ],
 "metadata": {
  "kernelspec": {
   "display_name": "Python 3",
   "language": "python",
   "name": "python3"
  },
  "language_info": {
   "codemirror_mode": {
    "name": "ipython",
    "version": 3
   },
   "file_extension": ".py",
   "mimetype": "text/x-python",
   "name": "python",
   "nbconvert_exporter": "python",
   "pygments_lexer": "ipython3",
   "version": "3.7.10"
  }
 },
 "nbformat": 4,
 "nbformat_minor": 5
}
